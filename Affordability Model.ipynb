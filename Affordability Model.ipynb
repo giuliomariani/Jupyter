{
 "cells": [
  {
   "cell_type": "markdown",
   "id": "6ac139f8",
   "metadata": {},
   "source": [
    "# Affordability Model"
   ]
  },
  {
   "cell_type": "code",
   "execution_count": null,
   "id": "a39a9fb3",
   "metadata": {},
   "outputs": [],
   "source": [
    "#This is the jupyter notebook we will be using to write code for the affordability model."
   ]
  },
  {
   "cell_type": "code",
   "execution_count": null,
   "id": "14f85845",
   "metadata": {},
   "outputs": [],
   "source": []
  },
  {
   "cell_type": "code",
   "execution_count": null,
   "id": "413d48fe",
   "metadata": {},
   "outputs": [],
   "source": []
  },
  {
   "cell_type": "code",
   "execution_count": null,
   "id": "873656fb",
   "metadata": {},
   "outputs": [],
   "source": []
  },
  {
   "cell_type": "code",
   "execution_count": null,
   "id": "1d9635c0",
   "metadata": {},
   "outputs": [],
   "source": []
  }
 ],
 "metadata": {
  "kernelspec": {
   "display_name": "Python 3 (ipykernel)",
   "language": "python",
   "name": "python3"
  },
  "language_info": {
   "codemirror_mode": {
    "name": "ipython",
    "version": 3
   },
   "file_extension": ".py",
   "mimetype": "text/x-python",
   "name": "python",
   "nbconvert_exporter": "python",
   "pygments_lexer": "ipython3",
   "version": "3.8.10"
  }
 },
 "nbformat": 4,
 "nbformat_minor": 5
}
