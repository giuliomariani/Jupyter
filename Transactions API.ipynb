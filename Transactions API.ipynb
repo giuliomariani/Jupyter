{
 "cells": [
  {
   "cell_type": "code",
   "execution_count": null,
   "id": "8bdb92d6",
   "metadata": {},
   "outputs": [],
   "source": [
    "import requests"
   ]
  },
  {
   "cell_type": "markdown",
   "id": "5852fac8",
   "metadata": {},
   "source": [
    "#### Log in as a dummy customer and retrieve a token"
   ]
  },
  {
   "cell_type": "code",
   "execution_count": null,
   "id": "215f0716",
   "metadata": {},
   "outputs": [],
   "source": [
    "login = {\"DirectLogin\": \"username=suzanne.fr.29@example.com, password=a4f9af,\" \n",
    "         \"consumer_key=parptggjfs2pbqmajoxzgjfmz3g3ib5wuvsusar1\"}\n",
    "\n",
    "response = requests.post(\"https://apisandbox.openbankproject.com/my/logins/direct\", headers=login)\n",
    "token = response.json()\n",
    "print(token)"
   ]
  },
  {
   "cell_type": "markdown",
   "id": "809e483e",
   "metadata": {},
   "source": [
    "#### Paste the token in the login details"
   ]
  },
  {
   "cell_type": "code",
   "execution_count": null,
   "id": "876967d1",
   "metadata": {},
   "outputs": [],
   "source": [
    "login = {\"DirectLogin\": \"username=suzanne.fr.29@example.com, password=a4f9af,\" \n",
    "         \"consumer_key=parptggjfs2pbqmajoxzgjfmz3g3ib5wuvsusar1,\"\n",
    "         \"token=XXXXXXXXXXXXXX\"}"
   ]
  },
  {
   "cell_type": "markdown",
   "id": "f5a04e3c",
   "metadata": {},
   "source": [
    "#### Get the customer's account ID and view ID"
   ]
  },
  {
   "cell_type": "code",
   "execution_count": null,
   "id": "6895ac0f",
   "metadata": {},
   "outputs": [],
   "source": [
    "response = requests.get(\"https://apisandbox.openbankproject.com/obp/v4.0.0/banks/gh.29.fr/accounts\", headers=login)\n",
    "data = response.json()\n",
    "print(data)"
   ]
  },
  {
   "cell_type": "markdown",
   "id": "5eab35bc",
   "metadata": {},
   "source": [
    "#### Use the customer's account ID and view ID to retrieve a list of their transactions "
   ]
  },
  {
   "cell_type": "code",
   "execution_count": null,
   "id": "dc2d63fd",
   "metadata": {},
   "outputs": [],
   "source": [
    "# Need to replace ACCOUNT_ID and VIEW_ID with what you got in the previous call\n",
    "# response = requests.get(\"https://apisandbox.openbankproject.com/obp/v4.0.0/banks/gh.29.fr/accounts/ACCOUNT_ID/VIEW_ID/transactions\", headers=login)\n",
    "\n",
    "response = requests.get(\"https://apisandbox.openbankproject.com/obp/v4.0.0/banks/gh.29.fr/accounts/3308e7c2-7734-49d5-961a-b5b239b420de/auditor/transactions\", headers=login)\n",
    "transactions = response.json()\n",
    "print(transactions)"
   ]
  }
 ],
 "metadata": {
  "kernelspec": {
   "display_name": "Python 3 (ipykernel)",
   "language": "python",
   "name": "python3"
  },
  "language_info": {
   "codemirror_mode": {
    "name": "ipython",
    "version": 3
   },
   "file_extension": ".py",
   "mimetype": "text/x-python",
   "name": "python",
   "nbconvert_exporter": "python",
   "pygments_lexer": "ipython3",
   "version": "3.8.10"
  }
 },
 "nbformat": 4,
 "nbformat_minor": 5
}
